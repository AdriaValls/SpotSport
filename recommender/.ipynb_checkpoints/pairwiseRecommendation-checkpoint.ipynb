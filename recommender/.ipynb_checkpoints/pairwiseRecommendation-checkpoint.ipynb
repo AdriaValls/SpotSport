{
 "cells": [
  {
   "cell_type": "code",
   "execution_count": 3,
   "id": "7e3986a4",
   "metadata": {},
   "outputs": [],
   "source": [
    "import numpy as np\n",
    "import math\n",
    "from random import randrange"
   ]
  },
  {
   "cell_type": "code",
   "execution_count": 4,
   "id": "bf61810d",
   "metadata": {},
   "outputs": [],
   "source": [
    "numPlayers = 30 #Number of players to emulate"
   ]
  },
  {
   "cell_type": "code",
   "execution_count": 5,
   "id": "48323c12",
   "metadata": {},
   "outputs": [],
   "source": [
    "stdDict = {1:0.03, 2:0.12, 4:0.35, 6:0.35, 8: 0.12, 10:0.03} #Skill distribution using a normal standard deviation of 10\n",
    "\n",
    "playerList = [i for i in range(1, numPlayers+1)]"
   ]
  },
  {
   "cell_type": "code",
   "execution_count": 6,
   "id": "9564c947",
   "metadata": {},
   "outputs": [],
   "source": [
    "def stdToDict(playerNum, stdDict): \n",
    "    #Returns a dictionary with player,skill from the \n",
    "    valuesList = []  \n",
    "    #From the percentage of each skill cap appearance rate and total number of players, add as many times the skill cap to the list\n",
    "    for key, val in stdDict.items(): \n",
    "        for i in range(0, round(val * playerNum)):\n",
    "            valuesList.append(key)   \n",
    "            \n",
    "    return {i:valuesList[i-1]  for i in range(0, playerNum)} \n",
    "\n",
    "def matchResult(skill1, skill2): \n",
    "    #From the kill of two players return if player 1 won or not\n",
    "    return skill1 > randrange(skill1+skill2)    \n",
    "\n",
    "def simulateMatches(playerMat,skillDict, numIter=1): \n",
    "    #Generates a list of matches, every player plays numIter matches vs random opponents\n",
    "    matchList = []\n",
    "    nPlayers= playerMat.shape[0]    \n",
    "    for ite in range(0, numIter):\n",
    "        for i in range(0, nPlayers):\n",
    "            p1 = i\n",
    "            p2 = randrange(nPlayers)\n",
    "            while (p1 == p2):\n",
    "                p2 = randrange(nPlayers)\n",
    "            match = [p1,p2,matchResult(skillDict[p1],skillDict[p2])]\n",
    "            matchList.append(match)        \n",
    "    return matchList   \n",
    "\n",
    "def addMatchToMat(playerMat,match):\n",
    "    #Takes a list of matches and adds the results to the player matrix\n",
    "    result = -1\n",
    "    if(match[2]):\n",
    "        result = 1\n",
    "    p1 = match[0]\n",
    "    p2 = match[1]\n",
    "    \n",
    "    playerMat[p1][p2] += result \n",
    "    playerMat[p2][p1] -= result   \n"
   ]
  },
  {
   "cell_type": "code",
   "execution_count": 9,
   "id": "178efe80",
   "metadata": {},
   "outputs": [
    {
     "data": {
      "text/plain": [
       "{1: 5.5,\n",
       " 2: 0.5,\n",
       " 3: 2.5,\n",
       " 4: 1.5,\n",
       " 5: 5.5,\n",
       " 6: 1.5,\n",
       " 7: 2.5,\n",
       " 8: -2.5,\n",
       " 9: -1.5,\n",
       " 10: 3.5,\n",
       " 11: -0.5,\n",
       " 12: 5.5,\n",
       " 13: -3.5,\n",
       " 14: -0.5,\n",
       " 15: -4.5,\n",
       " 16: -2.5,\n",
       " 17: -1.5,\n",
       " 18: -0.5,\n",
       " 19: 3.5,\n",
       " 20: 1.5,\n",
       " 21: -0.5,\n",
       " 22: -3.5,\n",
       " 23: -1.5,\n",
       " 24: -3.5,\n",
       " 25: -0.5,\n",
       " 26: -6.5,\n",
       " 27: 0.5,\n",
       " 28: -2.5,\n",
       " 29: -4.5}"
      ]
     },
     "execution_count": 9,
     "metadata": {},
     "output_type": "execute_result"
    }
   ],
   "source": [
    "skillDict = stdToDict(numPlayers, stdDict)\n",
    "pxpMat = np.zeros((numPlayers, numPlayers))\n",
    "for i in range(0, pxpMat.shape[0]):\n",
    "    pxpMat[i][i] = 1/2\n",
    "    \n",
    "simMatchList = simulateMatches(pxpMat,skillDict,4) \n",
    "\n",
    "for match in simMatchList:\n",
    "    addMatchToMat(pxpMat, match)  \n",
    "    \n",
    "valuesList  = pxpMat.sum(axis=0)\n",
    "valuesDict = {i:valuesList[i]-1  for i in range(1, len(valuesList)) } \n",
    "\n",
    "valuesDict"
   ]
  },
  {
   "cell_type": "code",
   "execution_count": 12,
   "id": "42d54642",
   "metadata": {},
   "outputs": [
    {
     "data": {
      "text/plain": [
       "{0: 5, 1: 14, 2: 20, 3: 26, 4: 25, 5: 18, 6: 27, 7: 27, 8: 0, 9: 25}"
      ]
     },
     "execution_count": 12,
     "metadata": {},
     "output_type": "execute_result"
    }
   ],
   "source": [
    "matches =  {} \n",
    "for i in range(0, 10):\n",
    "    userId = randrange(len(valuesDict))    \n",
    "    matches[i] = userId    \n",
    "matches"
   ]
  },
  {
   "cell_type": "code",
   "execution_count": 13,
   "id": "9c9be1f3",
   "metadata": {},
   "outputs": [],
   "source": [
    "def getRecommendedMatch(playerValue, valuesDict, matchList):\n",
    "    recMatch = matchList[0]\n",
    "    \n",
    "    for matchId in matches:\n",
    "        ownerId = matchList[matchId]\n",
    "        matchValue = valuesList[ownerId]\n",
    "        \n",
    "        if matchValue == playerValue:\n",
    "            recMatch = matchId\n",
    "            return recMatch\n",
    "        else if 0.5 >= (matchValue^2 - playerValue^2) >= 0.5:\n",
    "            recMatch = matchId\n",
    "            return recMatch\n",
    "    return recMatch  \n",
    "    "
   ]
  },
  {
   "cell_type": "code",
   "execution_count": null,
   "id": "a2bddfe0",
   "metadata": {},
   "outputs": [],
   "source": [
    "getRecommendedMatch(playerValue, valuesDict, matches)"
   ]
  },
  {
   "cell_type": "code",
   "execution_count": null,
   "id": "df469b92",
   "metadata": {},
   "outputs": [],
   "source": []
  }
 ],
 "metadata": {
  "kernelspec": {
   "display_name": "Python 3",
   "language": "python",
   "name": "python3"
  },
  "language_info": {
   "codemirror_mode": {
    "name": "ipython",
    "version": 3
   },
   "file_extension": ".py",
   "mimetype": "text/x-python",
   "name": "python",
   "nbconvert_exporter": "python",
   "pygments_lexer": "ipython3",
   "version": "3.8.8"
  }
 },
 "nbformat": 4,
 "nbformat_minor": 5
}
